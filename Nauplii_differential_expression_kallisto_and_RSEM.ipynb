{
 "cells": [
  {
   "cell_type": "code",
   "execution_count": 1,
   "metadata": {},
   "outputs": [
    {
     "name": "stderr",
     "output_type": "stream",
     "text": [
      "C:\\Users\\melkrewi\\AppData\\Local\\Continuum\\anaconda3\\lib\\site-packages\\pandas\\compat\\_optional.py:138: UserWarning: Pandas requires version '2.7.0' or newer of 'numexpr' (version '2.6.9' currently installed).\n",
      "  warnings.warn(msg, UserWarning)\n"
     ]
    }
   ],
   "source": [
    "import pandas as pd\n",
    "import numpy as np\n",
    "import matplotlib.pyplot as plt\n",
    "import scipy\n",
    "import seaborn as sns\n",
    "import matplotlib.patches as mpatches\n",
    "import os\n",
    "os.chdir(\"C:/Users/melkrewi/Desktop/shrimp/Nauplii_project/TRINITY/\")"
   ]
  },
  {
   "cell_type": "code",
   "execution_count": 17,
   "metadata": {},
   "outputs": [],
   "source": [
    "sinica_vs_fran=pd.read_csv(\"fran_sinica_1to1.txt\",sep=\"\\s+\",header=None)\n",
    "sinica_DE_nauplii=pd.read_csv(\"kallisto_sinica.gene.counts.matrix.female_vs_male.DESeq2.DE_results\",sep=\"\\s+\")\n",
    "fran_DE_nauplii=pd.read_csv(\"kallisto_fran.gene.counts.matrix.female_vs_male.DESeq2.DE_results\",sep=\"\\s+\")\n",
    "fran_DE_nauplii_RSEM=pd.read_csv(\"RSEM.gene.counts.matrix.female_vs_male.DESeq2.DE_results\",sep=\"\\s+\")\n",
    "sinica_DE_nauplii_RSEM=pd.read_csv(\"RSEM_sinica.gene.counts.matrix.female_vs_male.DESeq2.DE_results\",sep=\"\\s+\")"
   ]
  },
  {
   "cell_type": "code",
   "execution_count": 32,
   "metadata": {},
   "outputs": [
    {
     "data": {
      "text/html": [
       "<div>\n",
       "<style scoped>\n",
       "    .dataframe tbody tr th:only-of-type {\n",
       "        vertical-align: middle;\n",
       "    }\n",
       "\n",
       "    .dataframe tbody tr th {\n",
       "        vertical-align: top;\n",
       "    }\n",
       "\n",
       "    .dataframe thead th {\n",
       "        text-align: right;\n",
       "    }\n",
       "</style>\n",
       "<table border=\"1\" class=\"dataframe\">\n",
       "  <thead>\n",
       "    <tr style=\"text-align: right;\">\n",
       "      <th></th>\n",
       "      <th>log2FoldChange_x</th>\n",
       "      <th>log2FoldChange_y</th>\n",
       "    </tr>\n",
       "  </thead>\n",
       "  <tbody>\n",
       "    <tr>\n",
       "      <th>log2FoldChange_x</th>\n",
       "      <td>1.000000</td>\n",
       "      <td>0.676123</td>\n",
       "    </tr>\n",
       "    <tr>\n",
       "      <th>log2FoldChange_y</th>\n",
       "      <td>0.676123</td>\n",
       "      <td>1.000000</td>\n",
       "    </tr>\n",
       "  </tbody>\n",
       "</table>\n",
       "</div>"
      ],
      "text/plain": [
       "                  log2FoldChange_x  log2FoldChange_y\n",
       "log2FoldChange_x          1.000000          0.676123\n",
       "log2FoldChange_y          0.676123          1.000000"
      ]
     },
     "execution_count": 32,
     "metadata": {},
     "output_type": "execute_result"
    }
   ],
   "source": [
    "merged_fran=pd.merge(fran_DE_nauplii,fran_DE_nauplii_RSEM,on=\"gene\")\n",
    "merged_fran[['log2FoldChange_x','log2FoldChange_y']].corr(method='pearson')"
   ]
  },
  {
   "cell_type": "code",
   "execution_count": 33,
   "metadata": {},
   "outputs": [
    {
     "data": {
      "text/html": [
       "<div>\n",
       "<style scoped>\n",
       "    .dataframe tbody tr th:only-of-type {\n",
       "        vertical-align: middle;\n",
       "    }\n",
       "\n",
       "    .dataframe tbody tr th {\n",
       "        vertical-align: top;\n",
       "    }\n",
       "\n",
       "    .dataframe thead th {\n",
       "        text-align: right;\n",
       "    }\n",
       "</style>\n",
       "<table border=\"1\" class=\"dataframe\">\n",
       "  <thead>\n",
       "    <tr style=\"text-align: right;\">\n",
       "      <th></th>\n",
       "      <th>log2FoldChange_x</th>\n",
       "      <th>log2FoldChange_y</th>\n",
       "    </tr>\n",
       "  </thead>\n",
       "  <tbody>\n",
       "    <tr>\n",
       "      <th>log2FoldChange_x</th>\n",
       "      <td>1.000000</td>\n",
       "      <td>0.637013</td>\n",
       "    </tr>\n",
       "    <tr>\n",
       "      <th>log2FoldChange_y</th>\n",
       "      <td>0.637013</td>\n",
       "      <td>1.000000</td>\n",
       "    </tr>\n",
       "  </tbody>\n",
       "</table>\n",
       "</div>"
      ],
      "text/plain": [
       "                  log2FoldChange_x  log2FoldChange_y\n",
       "log2FoldChange_x          1.000000          0.637013\n",
       "log2FoldChange_y          0.637013          1.000000"
      ]
     },
     "execution_count": 33,
     "metadata": {},
     "output_type": "execute_result"
    }
   ],
   "source": [
    "merged_sinica=pd.merge(sinica_DE_nauplii,sinica_DE_nauplii_RSEM,on=\"gene\")\n",
    "merged_sinica[['log2FoldChange_x','log2FoldChange_y']].corr(method='pearson')"
   ]
  },
  {
   "cell_type": "code",
   "execution_count": 102,
   "metadata": {},
   "outputs": [
    {
     "data": {
      "text/html": [
       "<div>\n",
       "<style scoped>\n",
       "    .dataframe tbody tr th:only-of-type {\n",
       "        vertical-align: middle;\n",
       "    }\n",
       "\n",
       "    .dataframe tbody tr th {\n",
       "        vertical-align: top;\n",
       "    }\n",
       "\n",
       "    .dataframe thead th {\n",
       "        text-align: right;\n",
       "    }\n",
       "</style>\n",
       "<table border=\"1\" class=\"dataframe\">\n",
       "  <thead>\n",
       "    <tr style=\"text-align: right;\">\n",
       "      <th></th>\n",
       "      <th>log2FoldChange_x</th>\n",
       "      <th>log2FoldChange_y</th>\n",
       "    </tr>\n",
       "  </thead>\n",
       "  <tbody>\n",
       "    <tr>\n",
       "      <th>log2FoldChange_x</th>\n",
       "      <td>1.000000</td>\n",
       "      <td>0.676123</td>\n",
       "    </tr>\n",
       "    <tr>\n",
       "      <th>log2FoldChange_y</th>\n",
       "      <td>0.676123</td>\n",
       "      <td>1.000000</td>\n",
       "    </tr>\n",
       "  </tbody>\n",
       "</table>\n",
       "</div>"
      ],
      "text/plain": [
       "                  log2FoldChange_x  log2FoldChange_y\n",
       "log2FoldChange_x          1.000000          0.676123\n",
       "log2FoldChange_y          0.676123          1.000000"
      ]
     },
     "execution_count": 102,
     "metadata": {},
     "output_type": "execute_result"
    }
   ],
   "source": [
    "merged_fran[['log2FoldChange_x','log2FoldChange_y']].corr(method='pearson')"
   ]
  },
  {
   "cell_type": "code",
   "execution_count": 34,
   "metadata": {},
   "outputs": [
    {
     "data": {
      "text/plain": [
       "<matplotlib.collections.PathCollection at 0x2841943c2e8>"
      ]
     },
     "execution_count": 34,
     "metadata": {},
     "output_type": "execute_result"
    },
    {
     "data": {
      "image/png": "[encoded data removed]",
      "text/plain": [
       "<Figure size 432x288 with 1 Axes>"
      ]
     },
     "metadata": {
      "needs_background": "light"
     },
     "output_type": "display_data"
    }
   ],
   "source": [
    "plt.scatter(merged_sinica['log2FoldChange_x'],merged_sinica['log2FoldChange_y'])"
   ]
  },
  {
   "cell_type": "code",
   "execution_count": 99,
   "metadata": {
    "scrolled": true
   },
   "outputs": [
    {
     "data": {
      "text/plain": [
       "<matplotlib.collections.PathCollection at 0x1f08ddfedd8>"
      ]
     },
     "execution_count": 99,
     "metadata": {},
     "output_type": "execute_result"
    },
    {
     "data": {
      "image/png": "[encoded data removed]",
      "text/plain": [
       "<Figure size 432x288 with 1 Axes>"
      ]
     },
     "metadata": {
      "needs_background": "light"
     },
     "output_type": "display_data"
    }
   ],
   "source": [
    "plt.scatter(merged_fran['log2FoldChange_x'],merged_fran['log2FoldChange_y'])"
   ]
  },
  {
   "cell_type": "code",
   "execution_count": 6,
   "metadata": {},
   "outputs": [],
   "source": [
    "merged_1=pd.merge(sinica_DE_nauplii,sinica_vs_fran,left_on='gene',right_on=0)\n",
    "merged_2=pd.merge(merged_1,fran_DE_nauplii,left_on=1,right_on='gene')\n",
    "merged_1_RSEM=pd.merge(sinica_DE_nauplii_RSEM,sinica_vs_fran,left_on='gene',right_on=0)\n",
    "merged_2_RSEM=pd.merge(merged_1_RSEM,fran_DE_nauplii_RSEM,left_on=1,right_on='gene')\n",
    "#merged_2=merged_2[(np.log2(merged_2['baseMean_x'])>5)&(np.log2(merged_2['baseMean_y'])>5)]\n",
    "#merged_2=merged_2[(np.log2(merged_2['baseMean_x'])>5)&(np.log2(merged_2['baseMean_y'])>5)]"
   ]
  },
  {
   "cell_type": "code",
   "execution_count": 5,
   "metadata": {},
   "outputs": [
    {
     "data": {
      "text/plain": [
       "Text(0, 0.5, 'logFC fran')"
      ]
     },
     "execution_count": 5,
     "metadata": {},
     "output_type": "execute_result"
    },
    {
     "data": {
      "image/png": "[encoded data removed]",
      "text/plain": [
       "<Figure size 720x720 with 1 Axes>"
      ]
     },
     "metadata": {
      "needs_background": "light"
     },
     "output_type": "display_data"
    }
   ],
   "source": [
    "plt.figure(figsize=(10, 10))\n",
    "#plt.scatter(merged_limma_2['logFC_x'],merged_limma_2['logFC_y'],c= np.where(((merged_limma_2['adj.P.Val_x']<0.1)&(merged_limma_2['adj.P.Val_y']<0.1)),'r','b'))\n",
    "plt.scatter(merged_2['log2FoldChange_x'],merged_2['log2FoldChange_y'])\n",
    "plt.scatter(merged_2[(merged_2['padj_x']<0.05)&(merged_2['padj_y']<0.05)]['log2FoldChange_x'],merged_2[(merged_2['padj_x']<0.05)&(merged_2['padj_y']<0.05)]['log2FoldChange_y'])\n",
    "plt.yticks(fontsize=20)\n",
    "plt.xticks(fontsize=20)\n",
    "plt.xlabel('logFC sinica',fontsize=20)\n",
    "plt.ylabel('logFC fran',fontsize=20)\n",
    "#plt.legend()"
   ]
  },
  {
   "cell_type": "code",
   "execution_count": 55,
   "metadata": {},
   "outputs": [
    {
     "data": {
      "text/html": [
       "<div>\n",
       "<style scoped>\n",
       "    .dataframe tbody tr th:only-of-type {\n",
       "        vertical-align: middle;\n",
       "    }\n",
       "\n",
       "    .dataframe tbody tr th {\n",
       "        vertical-align: top;\n",
       "    }\n",
       "\n",
       "    .dataframe thead th {\n",
       "        text-align: right;\n",
       "    }\n",
       "</style>\n",
       "<table border=\"1\" class=\"dataframe\">\n",
       "  <thead>\n",
       "    <tr style=\"text-align: right;\">\n",
       "      <th></th>\n",
       "      <th>gene_x</th>\n",
       "      <th>sampleA_x</th>\n",
       "      <th>sampleB_x</th>\n",
       "      <th>baseMeanA_x</th>\n",
       "      <th>baseMeanB_x</th>\n",
       "      <th>baseMean_x</th>\n",
       "      <th>log2FoldChange_x</th>\n",
       "      <th>lfcSE_x</th>\n",
       "      <th>stat_x</th>\n",
       "      <th>pvalue_x</th>\n",
       "      <th>...</th>\n",
       "      <th>sampleA_y</th>\n",
       "      <th>sampleB_y</th>\n",
       "      <th>baseMeanA_y</th>\n",
       "      <th>baseMeanB_y</th>\n",
       "      <th>baseMean_y</th>\n",
       "      <th>log2FoldChange_y</th>\n",
       "      <th>lfcSE_y</th>\n",
       "      <th>stat_y</th>\n",
       "      <th>pvalue_y</th>\n",
       "      <th>padj_y</th>\n",
       "    </tr>\n",
       "  </thead>\n",
       "  <tbody>\n",
       "    <tr>\n",
       "      <th>6</th>\n",
       "      <td>TRINITY_DN30218_c0_g3</td>\n",
       "      <td>female</td>\n",
       "      <td>male</td>\n",
       "      <td>413.836824</td>\n",
       "      <td>70.804831</td>\n",
       "      <td>217.818542</td>\n",
       "      <td>2.548786</td>\n",
       "      <td>0.388653</td>\n",
       "      <td>6.558005</td>\n",
       "      <td>5.453237e-11</td>\n",
       "      <td>...</td>\n",
       "      <td>female</td>\n",
       "      <td>male</td>\n",
       "      <td>1865.054921</td>\n",
       "      <td>0.0</td>\n",
       "      <td>932.52746</td>\n",
       "      <td>13.414073</td>\n",
       "      <td>0.794046</td>\n",
       "      <td>16.893326</td>\n",
       "      <td>5.038140e-64</td>\n",
       "      <td>2.567940e-59</td>\n",
       "    </tr>\n",
       "  </tbody>\n",
       "</table>\n",
       "<p>1 rows × 24 columns</p>\n",
       "</div>"
      ],
      "text/plain": [
       "                  gene_x sampleA_x sampleB_x  baseMeanA_x  baseMeanB_x  \\\n",
       "6  TRINITY_DN30218_c0_g3    female      male   413.836824    70.804831   \n",
       "\n",
       "   baseMean_x  log2FoldChange_x   lfcSE_x    stat_x      pvalue_x  ...  \\\n",
       "6  217.818542          2.548786  0.388653  6.558005  5.453237e-11  ...   \n",
       "\n",
       "   sampleA_y sampleB_y  baseMeanA_y baseMeanB_y baseMean_y log2FoldChange_y  \\\n",
       "6     female      male  1865.054921         0.0  932.52746        13.414073   \n",
       "\n",
       "    lfcSE_y     stat_y      pvalue_y        padj_y  \n",
       "6  0.794046  16.893326  5.038140e-64  2.567940e-59  \n",
       "\n",
       "[1 rows x 24 columns]"
      ]
     },
     "execution_count": 55,
     "metadata": {},
     "output_type": "execute_result"
    }
   ],
   "source": [
    "merged_2[(merged_2['padj_x']<0.01)&(merged_2['padj_y']<0.01)]#['gene_y']"
   ]
  },
  {
   "cell_type": "code",
   "execution_count": 40,
   "metadata": {},
   "outputs": [
    {
     "data": {
      "text/plain": [
       "(array([  6.,  23.,  13.,  22.,  17.,   8.,  19.,  33.,  37.,  43.,  53.,\n",
       "         69.,  84., 112., 102., 118., 124., 175., 142., 161., 138., 143.,\n",
       "        157., 153., 151., 189., 142., 174., 157., 175., 177., 160., 187.,\n",
       "        177., 177., 200., 177., 170., 166., 169., 173., 153., 148., 158.,\n",
       "        142., 124., 123., 130., 118., 111.,  86.,  90.,  74.,  70.,  64.,\n",
       "         72.,  48.,  49.,  36.,  46.,  32.,  17.,  16.,  29.,  18.,  24.,\n",
       "         14.,   9.,  15.,  10.,   9.,   4.,   4.,   6.,   4.,   3.,   2.,\n",
       "          3.,   1.,   1.,   0.,   2.,   0.,   1.,   0.,   0.,   0.,   0.,\n",
       "          1.,   0.,   0.,   0.,   0.,   0.,   0.,   0.,   0.,   0.,   0.,\n",
       "          1.]),\n",
       " array([ 0.08339339,  0.26769928,  0.45200518,  0.63631108,  0.82061698,\n",
       "         1.00492287,  1.18922877,  1.37353467,  1.55784057,  1.74214647,\n",
       "         1.92645236,  2.11075826,  2.29506416,  2.47937006,  2.66367596,\n",
       "         2.84798185,  3.03228775,  3.21659365,  3.40089955,  3.58520544,\n",
       "         3.76951134,  3.95381724,  4.13812314,  4.32242904,  4.50673493,\n",
       "         4.69104083,  4.87534673,  5.05965263,  5.24395853,  5.42826442,\n",
       "         5.61257032,  5.79687622,  5.98118212,  6.16548802,  6.34979391,\n",
       "         6.53409981,  6.71840571,  6.90271161,  7.0870175 ,  7.2713234 ,\n",
       "         7.4556293 ,  7.6399352 ,  7.8242411 ,  8.00854699,  8.19285289,\n",
       "         8.37715879,  8.56146469,  8.74577059,  8.93007648,  9.11438238,\n",
       "         9.29868828,  9.48299418,  9.66730007,  9.85160597, 10.03591187,\n",
       "        10.22021777, 10.40452367, 10.58882956, 10.77313546, 10.95744136,\n",
       "        11.14174726, 11.32605316, 11.51035905, 11.69466495, 11.87897085,\n",
       "        12.06327675, 12.24758265, 12.43188854, 12.61619444, 12.80050034,\n",
       "        12.98480624, 13.16911213, 13.35341803, 13.53772393, 13.72202983,\n",
       "        13.90633573, 14.09064162, 14.27494752, 14.45925342, 14.64355932,\n",
       "        14.82786522, 15.01217111, 15.19647701, 15.38078291, 15.56508881,\n",
       "        15.7493947 , 15.9337006 , 16.1180065 , 16.3023124 , 16.4866183 ,\n",
       "        16.67092419, 16.85523009, 17.03953599, 17.22384189, 17.40814779,\n",
       "        17.59245368, 17.77675958, 17.96106548, 18.14537138, 18.32967728,\n",
       "        18.51398317]),\n",
       " <a list of 100 Patch objects>)"
      ]
     },
     "execution_count": 40,
     "metadata": {},
     "output_type": "execute_result"
    },
    {
     "data": {
      "image/png": "[encoded data removed]",
      "text/plain": [
       "<Figure size 432x288 with 1 Axes>"
      ]
     },
     "metadata": {
      "needs_background": "light"
     },
     "output_type": "display_data"
    }
   ],
   "source": [
    "plt.hist(np.log2(merged_2['baseMean_x']),bins=100)"
   ]
  },
  {
   "cell_type": "code",
   "execution_count": 18,
   "metadata": {},
   "outputs": [],
   "source": [
    "f_vs_s=pd.read_csv(\"fran_vs_sinica.blat.sorted.besthit\",sep=\"\\s+\")\n",
    "s_vs_f=pd.read_csv(\"sinica_vs_fran.blat.sorted.besthit\",sep=\"\\s+\")"
   ]
  },
  {
   "cell_type": "code",
   "execution_count": 19,
   "metadata": {},
   "outputs": [],
   "source": [
    "fs_merged=pd.merge(f_vs_s,s_vs_f,left_on='Qname',right_on='Tname')"
   ]
  },
  {
   "cell_type": "code",
   "execution_count": 20,
   "metadata": {},
   "outputs": [],
   "source": [
    "fs_merged_2=fs_merged[fs_merged['Qname_y']==fs_merged['Tname_x']]"
   ]
  },
  {
   "cell_type": "code",
   "execution_count": 21,
   "metadata": {},
   "outputs": [],
   "source": [
    "#merged_1=pd.merge(sinica_DE_nauplii,fs_merged_2,left_on='gene',right_on='Qname_x')\n",
    "#merged_2=pd.merge(merged_1,fran_DE_nauplii,left_on='Tname_x',right_on='gene')\n",
    "merged_1=pd.merge(sinica_DE_nauplii,fs_merged_2,left_on='gene',right_on='Qname_x')\n",
    "merged_2=pd.merge(merged_1,fran_DE_nauplii,left_on='Tname_x',right_on='gene')\n",
    "merged_1_RSEM=pd.merge(sinica_DE_nauplii,fs_merged_2,left_on='gene',right_on='Qname_x')\n",
    "merged_2_RSEM=pd.merge(merged_1_RSEM,fran_DE_nauplii_RSEM,left_on='Tname_x',right_on='gene')\n",
    "#merged_2=merged_2[(np.log2(merged_2['baseMean_x'])>5)&(np.log2(merged_2['baseMean_y'])>5)]"
   ]
  },
  {
   "cell_type": "code",
   "execution_count": 22,
   "metadata": {},
   "outputs": [
    {
     "data": {
      "text/plain": [
       "Text(0, 0.5, 'logFC fran')"
      ]
     },
     "execution_count": 22,
     "metadata": {},
     "output_type": "execute_result"
    },
    {
     "data": {
      "image/png": "[encoded data removed]",
      "text/plain": [
       "<Figure size 720x720 with 1 Axes>"
      ]
     },
     "metadata": {
      "needs_background": "light"
     },
     "output_type": "display_data"
    }
   ],
   "source": [
    "plt.figure(figsize=(10, 10))\n",
    "#plt.scatter(merged_limma_2['logFC_x'],merged_limma_2['logFC_y'],c= np.where(((merged_limma_2['adj.P.Val_x']<0.1)&(merged_limma_2['adj.P.Val_y']<0.1)),'r','b'))\n",
    "plt.scatter(merged_2['log2FoldChange_x'],merged_2['log2FoldChange_y'])\n",
    "plt.scatter(merged_2[(merged_2['padj_x']<0.05)&(merged_2['padj_y']<0.05)]['log2FoldChange_x'],merged_2[(merged_2['padj_x']<0.05)&(merged_2['padj_y']<0.05)]['log2FoldChange_y'])\n",
    "plt.yticks(fontsize=20)\n",
    "plt.xticks(fontsize=20)\n",
    "plt.xlabel('logFC sinica',fontsize=20)\n",
    "plt.ylabel('logFC fran',fontsize=20)\n",
    "#plt.legend()"
   ]
  },
  {
   "cell_type": "code",
   "execution_count": 27,
   "metadata": {},
   "outputs": [
    {
     "data": {
      "text/html": [
       "<div>\n",
       "<style scoped>\n",
       "    .dataframe tbody tr th:only-of-type {\n",
       "        vertical-align: middle;\n",
       "    }\n",
       "\n",
       "    .dataframe tbody tr th {\n",
       "        vertical-align: top;\n",
       "    }\n",
       "\n",
       "    .dataframe thead th {\n",
       "        text-align: right;\n",
       "    }\n",
       "</style>\n",
       "<table border=\"1\" class=\"dataframe\">\n",
       "  <thead>\n",
       "    <tr style=\"text-align: right;\">\n",
       "      <th></th>\n",
       "      <th>gene_x</th>\n",
       "      <th>sampleA_x</th>\n",
       "      <th>sampleB_x</th>\n",
       "      <th>baseMeanA_x</th>\n",
       "      <th>baseMeanB_x</th>\n",
       "      <th>baseMean_x</th>\n",
       "      <th>log2FoldChange_x</th>\n",
       "      <th>lfcSE_x</th>\n",
       "      <th>stat_x</th>\n",
       "      <th>pvalue_x</th>\n",
       "      <th>...</th>\n",
       "      <th>sampleA_y</th>\n",
       "      <th>sampleB_y</th>\n",
       "      <th>baseMeanA_y</th>\n",
       "      <th>baseMeanB_y</th>\n",
       "      <th>baseMean_y</th>\n",
       "      <th>log2FoldChange_y</th>\n",
       "      <th>lfcSE_y</th>\n",
       "      <th>stat_y</th>\n",
       "      <th>pvalue_y</th>\n",
       "      <th>padj_y</th>\n",
       "    </tr>\n",
       "  </thead>\n",
       "  <tbody>\n",
       "    <tr>\n",
       "      <th>10</th>\n",
       "      <td>TRINITY_DN15420_c0_g1</td>\n",
       "      <td>female</td>\n",
       "      <td>male</td>\n",
       "      <td>58.433935</td>\n",
       "      <td>0.113870</td>\n",
       "      <td>25.108184</td>\n",
       "      <td>7.898277</td>\n",
       "      <td>1.066645</td>\n",
       "      <td>7.404785</td>\n",
       "      <td>1.313633e-13</td>\n",
       "      <td>...</td>\n",
       "      <td>female</td>\n",
       "      <td>male</td>\n",
       "      <td>59.931834</td>\n",
       "      <td>0.0</td>\n",
       "      <td>29.965917</td>\n",
       "      <td>8.456236</td>\n",
       "      <td>1.096809</td>\n",
       "      <td>7.709855</td>\n",
       "      <td>1.259609e-14</td>\n",
       "      <td>6.633505e-12</td>\n",
       "    </tr>\n",
       "    <tr>\n",
       "      <th>13</th>\n",
       "      <td>TRINITY_DN30218_c0_g3</td>\n",
       "      <td>female</td>\n",
       "      <td>male</td>\n",
       "      <td>413.836824</td>\n",
       "      <td>70.804831</td>\n",
       "      <td>217.818542</td>\n",
       "      <td>2.548786</td>\n",
       "      <td>0.388653</td>\n",
       "      <td>6.558005</td>\n",
       "      <td>5.453237e-11</td>\n",
       "      <td>...</td>\n",
       "      <td>female</td>\n",
       "      <td>male</td>\n",
       "      <td>1865.054921</td>\n",
       "      <td>0.0</td>\n",
       "      <td>932.527460</td>\n",
       "      <td>13.414073</td>\n",
       "      <td>0.794046</td>\n",
       "      <td>16.893326</td>\n",
       "      <td>5.038140e-64</td>\n",
       "      <td>2.567940e-59</td>\n",
       "    </tr>\n",
       "    <tr>\n",
       "      <th>19</th>\n",
       "      <td>TRINITY_DN6049_c0_g2</td>\n",
       "      <td>female</td>\n",
       "      <td>male</td>\n",
       "      <td>35.338842</td>\n",
       "      <td>0.000000</td>\n",
       "      <td>15.145218</td>\n",
       "      <td>7.533153</td>\n",
       "      <td>1.316225</td>\n",
       "      <td>5.723301</td>\n",
       "      <td>1.044741e-08</td>\n",
       "      <td>...</td>\n",
       "      <td>female</td>\n",
       "      <td>male</td>\n",
       "      <td>17.089389</td>\n",
       "      <td>0.0</td>\n",
       "      <td>8.544694</td>\n",
       "      <td>6.641994</td>\n",
       "      <td>1.770293</td>\n",
       "      <td>3.751919</td>\n",
       "      <td>1.754864e-04</td>\n",
       "      <td>2.152717e-02</td>\n",
       "    </tr>\n",
       "  </tbody>\n",
       "</table>\n",
       "<p>3 rows × 64 columns</p>\n",
       "</div>"
      ],
      "text/plain": [
       "                   gene_x sampleA_x sampleB_x  baseMeanA_x  baseMeanB_x  \\\n",
       "10  TRINITY_DN15420_c0_g1    female      male    58.433935     0.113870   \n",
       "13  TRINITY_DN30218_c0_g3    female      male   413.836824    70.804831   \n",
       "19   TRINITY_DN6049_c0_g2    female      male    35.338842     0.000000   \n",
       "\n",
       "    baseMean_x  log2FoldChange_x   lfcSE_x    stat_x      pvalue_x  ...  \\\n",
       "10   25.108184          7.898277  1.066645  7.404785  1.313633e-13  ...   \n",
       "13  217.818542          2.548786  0.388653  6.558005  5.453237e-11  ...   \n",
       "19   15.145218          7.533153  1.316225  5.723301  1.044741e-08  ...   \n",
       "\n",
       "    sampleA_y  sampleB_y  baseMeanA_y  baseMeanB_y  baseMean_y  \\\n",
       "10     female       male    59.931834          0.0   29.965917   \n",
       "13     female       male  1865.054921          0.0  932.527460   \n",
       "19     female       male    17.089389          0.0    8.544694   \n",
       "\n",
       "    log2FoldChange_y   lfcSE_y     stat_y      pvalue_y        padj_y  \n",
       "10          8.456236  1.096809   7.709855  1.259609e-14  6.633505e-12  \n",
       "13         13.414073  0.794046  16.893326  5.038140e-64  2.567940e-59  \n",
       "19          6.641994  1.770293   3.751919  1.754864e-04  2.152717e-02  \n",
       "\n",
       "[3 rows x 64 columns]"
      ]
     },
     "execution_count": 27,
     "metadata": {},
     "output_type": "execute_result"
    }
   ],
   "source": [
    "merged_2[(merged_2['padj_x']<0.1)&(merged_2['padj_y']<0.1)]"
   ]
  },
  {
   "cell_type": "code",
   "execution_count": 23,
   "metadata": {},
   "outputs": [
    {
     "data": {
      "text/plain": [
       "Text(0, 0.5, 'logFC fran')"
      ]
     },
     "execution_count": 23,
     "metadata": {},
     "output_type": "execute_result"
    },
    {
     "data": {
      "image/png": "[encoded data removed]",
      "text/plain": [
       "<Figure size 720x720 with 1 Axes>"
      ]
     },
     "metadata": {
      "needs_background": "light"
     },
     "output_type": "display_data"
    }
   ],
   "source": [
    "plt.figure(figsize=(10, 10))\n",
    "#plt.scatter(merged_limma_2['logFC_x'],merged_limma_2['logFC_y'],c= np.where(((merged_limma_2['adj.P.Val_x']<0.1)&(merged_limma_2['adj.P.Val_y']<0.1)),'r','b'))\n",
    "plt.scatter(merged_2_RSEM['log2FoldChange_x'],merged_2_RSEM['log2FoldChange_y'])\n",
    "plt.scatter(merged_2_RSEM[(merged_2_RSEM['padj_x']<0.05)&(merged_2_RSEM['padj_y']<0.05)]['log2FoldChange_x'],merged_2_RSEM[(merged_2_RSEM['padj_x']<0.05)&(merged_2_RSEM['padj_y']<0.05)]['log2FoldChange_y'])\n",
    "plt.yticks(fontsize=20)\n",
    "plt.xticks(fontsize=20)\n",
    "plt.xlabel('logFC sinica',fontsize=20)\n",
    "plt.ylabel('logFC fran',fontsize=20)\n",
    "#plt.legend()"
   ]
  },
  {
   "cell_type": "code",
   "execution_count": 28,
   "metadata": {},
   "outputs": [
    {
     "data": {
      "text/html": [
       "<div>\n",
       "<style scoped>\n",
       "    .dataframe tbody tr th:only-of-type {\n",
       "        vertical-align: middle;\n",
       "    }\n",
       "\n",
       "    .dataframe tbody tr th {\n",
       "        vertical-align: top;\n",
       "    }\n",
       "\n",
       "    .dataframe thead th {\n",
       "        text-align: right;\n",
       "    }\n",
       "</style>\n",
       "<table border=\"1\" class=\"dataframe\">\n",
       "  <thead>\n",
       "    <tr style=\"text-align: right;\">\n",
       "      <th></th>\n",
       "      <th>gene_x</th>\n",
       "      <th>sampleA_x</th>\n",
       "      <th>sampleB_x</th>\n",
       "      <th>baseMeanA_x</th>\n",
       "      <th>baseMeanB_x</th>\n",
       "      <th>baseMean_x</th>\n",
       "      <th>log2FoldChange_x</th>\n",
       "      <th>lfcSE_x</th>\n",
       "      <th>stat_x</th>\n",
       "      <th>pvalue_x</th>\n",
       "      <th>...</th>\n",
       "      <th>sampleA_y</th>\n",
       "      <th>sampleB_y</th>\n",
       "      <th>baseMeanA_y</th>\n",
       "      <th>baseMeanB_y</th>\n",
       "      <th>baseMean_y</th>\n",
       "      <th>log2FoldChange_y</th>\n",
       "      <th>lfcSE_y</th>\n",
       "      <th>stat_y</th>\n",
       "      <th>pvalue_y</th>\n",
       "      <th>padj_y</th>\n",
       "    </tr>\n",
       "  </thead>\n",
       "  <tbody>\n",
       "    <tr>\n",
       "      <th>2</th>\n",
       "      <td>TRINITY_DN3456_c0_g1</td>\n",
       "      <td>female</td>\n",
       "      <td>male</td>\n",
       "      <td>6973.463298</td>\n",
       "      <td>15637.540007</td>\n",
       "      <td>11924.364275</td>\n",
       "      <td>-1.165078</td>\n",
       "      <td>0.111816</td>\n",
       "      <td>-10.419634</td>\n",
       "      <td>2.017280e-25</td>\n",
       "      <td>...</td>\n",
       "      <td>female</td>\n",
       "      <td>male</td>\n",
       "      <td>4237.784816</td>\n",
       "      <td>8818.979600</td>\n",
       "      <td>6528.382208</td>\n",
       "      <td>-1.057301</td>\n",
       "      <td>0.183758</td>\n",
       "      <td>-5.753769</td>\n",
       "      <td>8.727521e-09</td>\n",
       "      <td>5.558406e-07</td>\n",
       "    </tr>\n",
       "    <tr>\n",
       "      <th>7</th>\n",
       "      <td>TRINITY_DN30218_c0_g3</td>\n",
       "      <td>female</td>\n",
       "      <td>male</td>\n",
       "      <td>413.836824</td>\n",
       "      <td>70.804831</td>\n",
       "      <td>217.818542</td>\n",
       "      <td>2.548786</td>\n",
       "      <td>0.388653</td>\n",
       "      <td>6.558005</td>\n",
       "      <td>5.453237e-11</td>\n",
       "      <td>...</td>\n",
       "      <td>female</td>\n",
       "      <td>male</td>\n",
       "      <td>713.534509</td>\n",
       "      <td>0.000000</td>\n",
       "      <td>356.767255</td>\n",
       "      <td>12.006583</td>\n",
       "      <td>0.783874</td>\n",
       "      <td>15.316987</td>\n",
       "      <td>5.888430e-53</td>\n",
       "      <td>1.245079e-48</td>\n",
       "    </tr>\n",
       "    <tr>\n",
       "      <th>33</th>\n",
       "      <td>TRINITY_DN60214_c0_g1</td>\n",
       "      <td>female</td>\n",
       "      <td>male</td>\n",
       "      <td>717.315029</td>\n",
       "      <td>1123.733880</td>\n",
       "      <td>949.554372</td>\n",
       "      <td>-0.647966</td>\n",
       "      <td>0.169359</td>\n",
       "      <td>-3.825983</td>\n",
       "      <td>1.302515e-04</td>\n",
       "      <td>...</td>\n",
       "      <td>female</td>\n",
       "      <td>male</td>\n",
       "      <td>8.579970</td>\n",
       "      <td>70.649554</td>\n",
       "      <td>39.614762</td>\n",
       "      <td>-3.022877</td>\n",
       "      <td>0.414863</td>\n",
       "      <td>-7.286442</td>\n",
       "      <td>3.182466e-13</td>\n",
       "      <td>2.919377e-11</td>\n",
       "    </tr>\n",
       "    <tr>\n",
       "      <th>35</th>\n",
       "      <td>TRINITY_DN33787_c1_g2</td>\n",
       "      <td>female</td>\n",
       "      <td>male</td>\n",
       "      <td>2855.287752</td>\n",
       "      <td>5866.365778</td>\n",
       "      <td>4575.903767</td>\n",
       "      <td>-1.038823</td>\n",
       "      <td>0.277939</td>\n",
       "      <td>-3.737601</td>\n",
       "      <td>1.857842e-04</td>\n",
       "      <td>...</td>\n",
       "      <td>female</td>\n",
       "      <td>male</td>\n",
       "      <td>8558.634787</td>\n",
       "      <td>15624.411643</td>\n",
       "      <td>12091.523215</td>\n",
       "      <td>-0.868337</td>\n",
       "      <td>0.229614</td>\n",
       "      <td>-3.781724</td>\n",
       "      <td>1.557462e-04</td>\n",
       "      <td>8.758447e-03</td>\n",
       "    </tr>\n",
       "  </tbody>\n",
       "</table>\n",
       "<p>4 rows × 64 columns</p>\n",
       "</div>"
      ],
      "text/plain": [
       "                   gene_x sampleA_x sampleB_x  baseMeanA_x   baseMeanB_x  \\\n",
       "2    TRINITY_DN3456_c0_g1    female      male  6973.463298  15637.540007   \n",
       "7   TRINITY_DN30218_c0_g3    female      male   413.836824     70.804831   \n",
       "33  TRINITY_DN60214_c0_g1    female      male   717.315029   1123.733880   \n",
       "35  TRINITY_DN33787_c1_g2    female      male  2855.287752   5866.365778   \n",
       "\n",
       "      baseMean_x  log2FoldChange_x   lfcSE_x     stat_x      pvalue_x  ...  \\\n",
       "2   11924.364275         -1.165078  0.111816 -10.419634  2.017280e-25  ...   \n",
       "7     217.818542          2.548786  0.388653   6.558005  5.453237e-11  ...   \n",
       "33    949.554372         -0.647966  0.169359  -3.825983  1.302515e-04  ...   \n",
       "35   4575.903767         -1.038823  0.277939  -3.737601  1.857842e-04  ...   \n",
       "\n",
       "    sampleA_y  sampleB_y  baseMeanA_y   baseMeanB_y    baseMean_y  \\\n",
       "2      female       male  4237.784816   8818.979600   6528.382208   \n",
       "7      female       male   713.534509      0.000000    356.767255   \n",
       "33     female       male     8.579970     70.649554     39.614762   \n",
       "35     female       male  8558.634787  15624.411643  12091.523215   \n",
       "\n",
       "    log2FoldChange_y   lfcSE_y     stat_y      pvalue_y        padj_y  \n",
       "2          -1.057301  0.183758  -5.753769  8.727521e-09  5.558406e-07  \n",
       "7          12.006583  0.783874  15.316987  5.888430e-53  1.245079e-48  \n",
       "33         -3.022877  0.414863  -7.286442  3.182466e-13  2.919377e-11  \n",
       "35         -0.868337  0.229614  -3.781724  1.557462e-04  8.758447e-03  \n",
       "\n",
       "[4 rows x 64 columns]"
      ]
     },
     "execution_count": 28,
     "metadata": {},
     "output_type": "execute_result"
    }
   ],
   "source": [
    "merged_2_RSEM[(merged_2_RSEM['padj_x']<0.05)&(merged_2_RSEM['padj_y']<0.05)]"
   ]
  },
  {
   "cell_type": "code",
   "execution_count": null,
   "metadata": {},
   "outputs": [],
   "source": []
  }
 ],
 "metadata": {
  "kernelspec": {
   "display_name": "Python 3",
   "language": "python",
   "name": "python3"
  },
  "language_info": {
   "codemirror_mode": {
    "name": "ipython",
    "version": 3
   },
   "file_extension": ".py",
   "mimetype": "text/x-python",
   "name": "python",
   "nbconvert_exporter": "python",
   "pygments_lexer": "ipython3",
   "version": "3.7.3"
  }
 },
 "nbformat": 4,
 "nbformat_minor": 2
}
