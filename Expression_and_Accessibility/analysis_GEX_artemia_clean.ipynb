{
 "cells": [
  {
   "cell_type": "code",
   "execution_count": 1,
   "id": "ca697fdb-e815-4cc1-b8ae-2506f7ed89b5",
   "metadata": {},
   "outputs": [],
   "source": [
    "import pandas as pd\n",
    "import numpy as np\n",
    "import matplotlib.pyplot as plt\n",
    "import scipy\n",
    "import seaborn as sns\n",
    "import matplotlib.patches as mpatches\n",
    "import os\n",
    "import math\n",
    "import random"
   ]
  },
  {
   "cell_type": "code",
   "execution_count": 207,
   "id": "c0865668-dff3-4494-8caa-f59a56245ca6",
   "metadata": {},
   "outputs": [],
   "source": [
    "def convert_pvalue_to_asterisks(pvalue):\n",
    "    if pvalue <= 0.001:\n",
    "        return \"***\"\n",
    "    elif pvalue <= 0.01:\n",
    "        return \"**\"\n",
    "    elif pvalue <= 0.05:\n",
    "        return \"*\"\n",
    "    return \"ns\""
   ]
  },
  {
   "cell_type": "code",
   "execution_count": 5,
   "id": "fa6b7c3c-4752-47e4-b5b3-3a22030bbf82",
   "metadata": {},
   "outputs": [],
   "source": [
    "#modified is the normal gtf without the first two lines below\n",
    "# stringtie --merge 60541_transcripts.gtf 60542_transcripts.gtf 60543_transcripts.gtf 60544_transcripts.gtf 60545_transcripts.gtf 60546_transcripts.gtf 60547_transcripts.gtf 60548_transcripts.gtf -o afran_genome_annotation_0.5.gtf -F 0 -T 0.5\n",
    "# StringTie version 2.2.1\n",
    "fran_gtf=pd.read_csv(\"/nfs/scistore18/vicosgrp/melkrewi/Project_snRNA_ovaries_with_W/1.stringtie/afran_genome_annotation_0.5_2_modified.gtf\",sep=\"\\t\",header=None)\n",
    "fran_gtf_2=fran_gtf[[0,2,3,8]]\n",
    "fran_gtf_2=fran_gtf_2[fran_gtf_2[2]=='transcript']\n",
    "fran_gtf_2['gene_id']=fran_gtf_2[8].str.split(';',expand=True)[0]\n",
    "fran_gtf_2=fran_gtf_2[[0,2,3,'gene_id']].drop_duplicates(subset='gene_id', keep=\"first\")\n",
    "fran_gtf_2['gene_id']=fran_gtf_2['gene_id'].str[9:-1]"
   ]
  },
  {
   "cell_type": "code",
   "execution_count": 7,
   "id": "fb671388-d64c-4bf0-8d88-ae3539b132da",
   "metadata": {},
   "outputs": [],
   "source": [
    "seurat_clusters=pd.read_csv(\"/nfs/scistore18/vicosgrp/melkrewi/Project_snRNA_ovaries_with_W/6.Integration/clean_run_04_12_2023/round_2/seurat_clusters_cells_integrated_DUBStepR_3_2.txt\",sep=\",\")"
   ]
  },
  {
   "cell_type": "code",
   "execution_count": 8,
   "id": "34b5118b-96bb-482b-b5a3-b54422f2b52a",
   "metadata": {},
   "outputs": [],
   "source": [
    "normalized_exp=pd.read_csv(\"/nfs/scistore18/vicosgrp/melkrewi/Project_snRNA_ovaries_with_W/6.Integration/clean_run_04_12_2023/round_2/normalized_expression_DUBStepR_3_2.csv\",sep=\",\",low_memory=False)"
   ]
  },
  {
   "cell_type": "code",
   "execution_count": 9,
   "id": "3eb8416f-04cc-407d-ab17-42694fbc796d",
   "metadata": {},
   "outputs": [],
   "source": [
    "merged_normalized=pd.merge(normalized_exp,fran_gtf_2,left_on='gene',right_on='gene_id')"
   ]
  },
  {
   "cell_type": "code",
   "execution_count": 10,
   "id": "d780af59-e148-4be4-a2ab-7ab27ea70f9a",
   "metadata": {},
   "outputs": [],
   "source": [
    "del normalized_exp"
   ]
  },
  {
   "cell_type": "code",
   "execution_count": 11,
   "id": "70cdf4be-79a0-43f2-a6f6-03b7c14e122d",
   "metadata": {},
   "outputs": [],
   "source": [
    "W_scaffolds=['scaffold000049W',\n",
    "'scaffold000218W',\n",
    "'scaffold000121W',\n",
    "'scaffold000336W',\n",
    "'scaffold000179W',\n",
    "'scaffold000243W',\n",
    "'scaffold000334W',\n",
    "'scaffold000030W',\n",
    "'scaffold000094W',\n",
    "'scaffold000085W',\n",
    "'scaffold000133W',\n",
    "'scaffold000315W',\n",
    "'scaffold000444W',\n",
    "'scaffold000018W',\n",
    "'scaffold000222W',\n",
    "'scaffold000265W',\n",
    "'scaffold000119W',\n",
    "'scaffold000294W',\n",
    "'scaffold000196W',\n",
    "'scaffold000043W',\n",
    "'scaffold000136W',\n",
    "'scaffold000131W',\n",
    "'scaffold000032W',\n",
    "'scaffold000274W',\n",
    "'scaffold000023W',\n",
    "'scaffold000046W',\n",
    "'scaffold000324W',\n",
    "'scaffold000330W',\n",
    "'scaffold000370W',\n",
    "'scaffold000183W',\n",
    "'scaffold000141W',\n",
    "'scaffold000272W',\n",
    "'scaffold000232W',\n",
    "'scaffold000031W',\n",
    "'scaffold000132W',\n",
    "'scaffold000116W',\n",
    "'scaffold000152W',\n",
    "'scaffold000068W']"
   ]
  },
  {
   "cell_type": "code",
   "execution_count": 12,
   "id": "0aadf8eb-3f16-483c-affa-b6998d719c94",
   "metadata": {},
   "outputs": [],
   "source": [
    "merged_all_norm=merged_normalized[merged_normalized[0].str.contains('chr')|merged_normalized[0].isin(W_scaffolds)]"
   ]
  },
  {
   "cell_type": "code",
   "execution_count": 13,
   "id": "45441e66-2f3a-492e-b096-83547535bfe1",
   "metadata": {},
   "outputs": [],
   "source": [
    "def windows_and_strata(strata,df2,seurat_clusters):\n",
    "    df=df2.copy()\n",
    "    df.loc[\n",
    "      ((df[0]=='chr6')&(df[3]<=45665001)), \n",
    "      'strata'+str(strata)\n",
    "    ] = 'pseudo'\n",
    "    df.loc[\n",
    "      ((df[0]=='chr6')&(((df[3] > 45665001.0) & (df[3] <= 48665001))))\n",
    "    , \n",
    "      'strata'+str(strata)\n",
    "    ] = 'S1'\n",
    "    df.loc[\n",
    "      #((merged_all_norm[0]=='chr6')&(((merged_all_norm[3] > 48665001.0) & (merged_all_norm[3] <= 61725001))))\n",
    "      ((df[0]=='chr6')&(((df[3] > 48665001) & (df[3] <= 53325001))|((df[3] > 53585001) & (df[3] <= 54575001))|((df[3] > 54735001) & (df[3] <= 61725001))))\n",
    "    , \n",
    "      'strata'+str(strata)\n",
    "    ] = 'S0'\n",
    "    df.loc[\n",
    "      ((df[0]=='chr6')&(((df[3] > 61725001.0) & (df[3] <= 66725001))))\n",
    "    , \n",
    "      'strata'+str(str(strata))\n",
    "    ] = 'S2'\n",
    "    df.loc[\n",
    "      ((df[0].str.contains('W'))), \n",
    "      'strata'+str(strata)\n",
    "    ] = 'W'\n",
    "    print(strata)\n",
    "    for j in [1,2,3,4,5,7,8,9,10,11,12,13,14,15,16,17,18,19,20,21]:\n",
    "        for i in np.arange(0,math.floor(len(df[df[0]=='chr'+str(j)])/len(df[df['strata'+str(strata)]==str(strata)])),1):\n",
    "            df.loc[df['gene'].isin(df[df[0]=='chr'+str(j)][i*len(df[df['strata'+str(strata)]==str(strata)]):(i*len(df[df['strata'+str(strata)]==str(strata)])+len(df[df['strata'+str(strata)]==str(strata)]))]['gene'].tolist()), 'strata' +str(strata)] = 'chr'+str(j)+'bin' +str(i)\n",
    "    #for i in seurat_clusters[seurat_clusters['seurat_clusters'].isin([2,0,4])]['barcodes'].tolist():\n",
    "    #    conditions = [df['strata'+str(strata)].isin([\"S0\"]),\n",
    "    #              df['strata'+str(strata)]!='S0']\n",
    "    #    choices = [df[i].div(2),\n",
    "    #           df[i].div(1)]\n",
    "    #    df[i] = np.select(conditions, choices)\n",
    "    #df.loc[df['strata'+str(strata)] == 'S0', seurat_clusters[seurat_clusters['seurat_clusters'].isin([2,0,4,5,3])]['barcodes'].tolist()] /= 2\n",
    "    df_2=df.drop([0,2,3,'gene','gene_id'],axis=1).groupby([\"strata\"+strata]).mean().T.reset_index()\n",
    "    df_3=pd.merge(seurat_clusters,df_2,left_on='barcodes',right_on='index')\n",
    "    columns= df_3.filter(regex='chr').columns.tolist()\n",
    "    for i in columns:\n",
    "        df_3[i]=np.log2((df_3[str(strata)]+0.0001)/(df_3[str(i)]+0.0001))\n",
    "        df_3 = df_3.rename(columns={i: str(strata)+'/'+i})\n",
    "        #df_3.insert(2, str(strata)+'/'+i, np.log2((df_3[str(strata)]+0.0001)/(df_3[str(i)]+0.0001)), True)\n",
    "        #df_3 = df_3.assign(str(strata)+'/'+i=np.log2((df_3[str(strata)]+0.0001)/(df_3[str(i)]+0.0001)).to_list())\n",
    "    #for j in [1,2,3,4,5,7,8,9,10,11,12,13,14,15,16,17,18,19,20,21]:\n",
    "    #    for i in np.arange(0,math.floor(len(df[df[0]=='chr'+str(j)])/len(df[df['strata'+str(strata)]==str(strata)])),1):\n",
    "    #        df_3[str(strata)+'/'+'chr'+str(j)+'bin' +str(i)]=np.log2((df_3[str(strata)]+0.0001)/(df_3['chr'+str(j)+'bin' +str(i)]+0.0001))\n",
    "    return df_3,df"
   ]
  },
  {
   "cell_type": "code",
   "execution_count": 14,
   "id": "8a35b32d-ec52-4e64-8aff-d89518a531cb",
   "metadata": {},
   "outputs": [
    {
     "name": "stdout",
     "output_type": "stream",
     "text": [
      "S0\n"
     ]
    }
   ],
   "source": [
    "S0_results,S0_results_raw=windows_and_strata('S0',merged_all_norm,seurat_clusters)"
   ]
  },
  {
   "cell_type": "code",
   "execution_count": 15,
   "id": "6a41772a-d333-4f41-a895-fb8a7366d371",
   "metadata": {},
   "outputs": [],
   "source": [
    "S0_results['mean_all_rows']=S0_results.filter(regex='S0/chr').mean(axis=1)\n",
    "S0_results['mean_all_rows']=S0_results['mean_all_rows']-np.median(S0_results[S0_results['seurat_clusters'].isin([2,0,4])]['mean_all_rows'])"
   ]
  },
  {
   "cell_type": "code",
   "execution_count": 222,
   "id": "a7b55487-5245-42f3-9c77-86c370454a52",
   "metadata": {},
   "outputs": [
    {
     "data": {
      "image/png": "[encoded data removed]",
      "text/plain": [
       "<Figure size 864x360 with 2 Axes>"
      ]
     },
     "metadata": {
      "needs_background": "light"
     },
     "output_type": "display_data"
    }
   ],
   "source": [
    "#plt.figure(figsize=(10, 5))\n",
    "#plt.subplot(2,1,0)\n",
    "fig, axes = plt.subplots(nrows=1, ncols=2,figsize=(12, 5))\n",
    "my_pal={12:\t\"#BC81FF\",14:\"#E26EF7\",\n",
    "17:\t\"#FF62BF\",\n",
    "18:\t\"#FF6A9A\",\n",
    "4:\t\"#00BDD4\",\n",
    "9:\t\"#00B5EE\",\n",
    "1:\t\"#00BD61\",\n",
    "5:\t\"#00C0B4\",\n",
    "6:\t\"#F8766D\",\n",
    "10:\t\"#00A7FF\",\n",
    "11:\t\"#7F96FF\",\n",
    "2:\t\"#BC9D00\",\n",
    "7:\t\"#00C08E\",\n",
    "15:\t\"#F863DF\",\n",
    "16:\t\"#E9842C\",\n",
    "0:\t\"#D69100\",\n",
    "3:\t\"#9CA700\",\n",
    "13:\t\"#6FB000\",\n",
    "8:\t\"#00B813\"}\n",
    "my_pal ={0:'#cab2d6',1:'#e31a1c',2:'#b15928',3:'#6a3d9a',4:'#fdbf6f',5:'#ffff99',6:'#ff7f00'}\n",
    "sns.boxplot(x='seurat_clusters', y='mean_all_rows', data=S0_results,showfliers=False,order=[2,0,4,5,3,1,6],palette=my_pal,ax=axes[0],notch=True)\n",
    "axes[0].hlines(np.median(S0_results[S0_results['seurat_clusters'].isin([2,0,4])]['mean_all_rows']),-0.5,6.5,color=\"gray\",linestyle='dashed')\n",
    "axes[0].hlines(np.median(S0_results[S0_results['seurat_clusters'].isin([2,0,4])]['mean_all_rows'])-1,-0.5,6.5,color=\"red\",linestyle='dashed')\n",
    "axes[0].hlines(np.median(S0_results[S0_results['seurat_clusters'].isin([2,0,4])]['mean_all_rows'])+1,-0.5,6.5,color=\"red\",linestyle='dashed')\n",
    "#axes[0].vlines(0.5,-3.6,3,color=\"black\",linewidth=1)\n",
    "#axes[0].vlines(2.5,-3.6,3,color=\"black\",linewidth=1)\n",
    "axes[0].text(4.2, 3.2, 'group\\n    3',fontsize=11, fontweight='bold', va='top')\n",
    "axes[0].text(-1.4, 3.7, 'A',fontsize=20, fontweight='bold', va='top')\n",
    "axes[0].text(1.2, 3.2, 'group\\n    2',fontsize=11, fontweight='bold', va='top')\n",
    "axes[0].text(-0.4, 3.2, 'group\\n    1',fontsize=11,fontweight='bold', va='top')\n",
    "axes[0].set_ylim(ymax=3.6,ymin=-3.6)\n",
    "axes[0].fill_between([2.5,6.5], 2.5, 4,facecolor='green', alpha=0.3,zorder=0)\n",
    "axes[0].fill_between([0.5,2.5], 2.5, 4,facecolor='red', alpha=0.3,zorder=0)\n",
    "axes[0].fill_between([-0.5,0.5],2.5, 4,facecolor='yellow', alpha=0.3,zorder=0)\n",
    "axes[0].set_ylabel('log2(S0/Autosomal)',fontsize=15)\n",
    "axes[0].set_xlabel(' ')\n",
    "axes[0].text(2.8, 2.2, convert_pvalue_to_asterisks(ranksums(S0_results[S0_results['seurat_clusters'].isin([5])]['mean_all_rows'],S0_results[S0_results['seurat_clusters'].isin([2,0,4])]['mean_all_rows'],alternative='less').pvalue),fontsize=12, fontweight='bold', va='top')\n",
    "axes[0].text(4.8, 2.2, convert_pvalue_to_asterisks(ranksums(S0_results[S0_results['seurat_clusters'].isin([1])]['mean_all_rows'],S0_results[S0_results['seurat_clusters'].isin([2,0,4])]['mean_all_rows'],alternative='less').pvalue),fontsize=12, fontweight='bold', va='top')\n",
    "axes[0].text(5.8, 2.2, convert_pvalue_to_asterisks(ranksums(S0_results[S0_results['seurat_clusters'].isin([6])]['mean_all_rows'],S0_results[S0_results['seurat_clusters'].isin([2,0,4])]['mean_all_rows'],alternative='less').pvalue),fontsize=12, fontweight='bold', va='top')\n",
    "region = ['Ovarian muscle cells','Follicle cells','Tracheal cells','Prefollicle cells','Escort cells','Germ cells A','Germ cells B']\n",
    "axes[0].set_xticks(np.arange(0,7), region,rotation = 90,fontsize=15)\n",
    "exp=S0_results\n",
    "exp.loc[\n",
    "  (exp['mean_all_rows']>-0.7), \n",
    "  'zone'\n",
    "] = 'DC'\n",
    "exp.loc[\n",
    "  (exp['mean_all_rows']<=-0.7)&(exp['mean_all_rows']>-2), \n",
    "  'zone'\n",
    "] = 'Lack of DC'\n",
    "exp.loc[\n",
    "  (exp['mean_all_rows']<=-2), \n",
    "  'zone'\n",
    "] = 'Inactivation Expression'\n",
    "Zones_1=pd.DataFrame(exp.groupby('seurat_clusters')['zone'].value_counts()).unstack(fill_value=0).reset_index(drop=True).reset_index(drop=True)\n",
    "Zones_1=Zones_1['zone'].reset_index()\n",
    "Zones_1['%DC']=(Zones_1['DC']/(Zones_1['DC']+Zones_1['Inactivation Expression']+Zones_1['Lack of DC']))*100\n",
    "Zones_1['%Inactivation Expression']=(Zones_1['Inactivation Expression']/(Zones_1['DC']+Zones_1['Inactivation Expression']+Zones_1['Lack of DC']))*100\n",
    "Zones_1['%Lack of DC']=(Zones_1['Lack of DC']/(Zones_1['DC']+Zones_1['Inactivation Expression']+Zones_1['Lack of DC']))*100\n",
    "exp_plot=Zones_1[[\"%DC\",\"%Lack of DC\",\"%Inactivation Expression\"]].reindex([2,0,4,5,3,1,6]).plot.bar(stacked=True,color=['cadetblue','seagreen',\"orange\"],ax=axes[1])\n",
    "exp_plot.legend(loc=3) \n",
    "plt.ylabel(\"Percentage of cells\",fontsize=15)\n",
    "axes[1].set_xlabel(' ')\n",
    "axes[1].text(5.65, 95, convert_pvalue_to_asterisks(chi2_contingency(np.array(Zones_1_stats_NDC[['somatic',1]].astype(float))).pvalue),fontsize=20, fontweight='bold', va='top')\n",
    "axes[1].text(5.65, 65, convert_pvalue_to_asterisks(chi2_contingency(np.array(Zones_1_stats_NDC[['somatic',6]].astype(float))).pvalue),fontsize=20, fontweight='bold', va='top')\n",
    "axes[1].text(4.65, 80, convert_pvalue_to_asterisks(chi2_contingency(np.array(Zones_1_stats_NI[['somatic',6]].astype(float))).pvalue),fontsize=20, fontweight='bold', va='top')\n",
    "axes[1].text(-1.5, 108, 'B',fontsize=20, fontweight='bold', va='top')\n",
    "region = ['Ovarian muscle cells','Follicle cells','Tracheal cells','Prefollicle cells','Escort cells','Germ cells A','Germ cells B']\n",
    "axes[1].set_xticks(np.arange(0,7), region,rotation = 90,fontsize=15)\n",
    "plt.savefig('/nfs/scistore18/vicosgrp/melkrewi/Project_snRNA_ovaries_with_W/6.Integration/clean_run_04_12_2023/round_2/Inactivation_GEX_v6.png',bbox_inches='tight',facecolor='white')"
   ]
  },
  {
   "cell_type": "code",
   "execution_count": 17,
   "id": "065eef1f-c141-4b3b-be5c-6a2af2f93e36",
   "metadata": {},
   "outputs": [
    {
     "name": "stdout",
     "output_type": "stream",
     "text": [
      "S1\n",
      "S2\n",
      "pseudo\n",
      "W\n"
     ]
    }
   ],
   "source": [
    "S1_results,S1_results_raw=windows_and_strata('S1',merged_all_norm,seurat_clusters)\n",
    "S2_results,S2_results_raw=windows_and_strata('S2',merged_all_norm,seurat_clusters)\n",
    "pseudo_results,pseudo_results_raw=windows_and_strata('pseudo',merged_all_norm,seurat_clusters)\n",
    "W_results,W_results_raw=windows_and_strata('W',merged_all_norm,seurat_clusters)"
   ]
  },
  {
   "cell_type": "code",
   "execution_count": 24,
   "id": "0af3b5ea-86a8-4b43-a4e8-1ab650ea4c87",
   "metadata": {},
   "outputs": [],
   "source": [
    "S1_results['mean_all_rows']=S1_results.filter(regex='S1/chr').mean(axis=1)\n",
    "S1_results['mean_all_rows']=S1_results['mean_all_rows']-np.median(S1_results[S1_results['seurat_clusters'].isin([2,0,4])]['mean_all_rows'])\n",
    "S2_results['mean_all_rows']=S2_results.filter(regex='S2/chr').mean(axis=1)\n",
    "S2_results['mean_all_rows']=S2_results['mean_all_rows']-np.median(S2_results[S2_results['seurat_clusters'].isin([2,0,4])]['mean_all_rows'])\n",
    "pseudo_results['mean_all_rows']=pseudo_results.filter(regex='pseudo/chr').mean(axis=1)\n",
    "pseudo_results['mean_all_rows']=pseudo_results['mean_all_rows']-np.median(pseudo_results[pseudo_results['seurat_clusters'].isin([2,0,4])]['mean_all_rows'])\n",
    "W_results['mean_all_rows']=W_results.filter(regex='W/chr').mean(axis=1)\n",
    "W_results['mean_all_rows']=W_results['mean_all_rows']-np.median(W_results[W_results['seurat_clusters'].isin([2,0,4])]['mean_all_rows'])\n"
   ]
  },
  {
   "cell_type": "code",
   "execution_count": 170,
   "id": "69951e5f-ccbc-4d09-929b-bcd890da1afa",
   "metadata": {},
   "outputs": [
    {
     "data": {
      "image/png": "[encoded data removed]",
      "text/plain": [
       "<Figure size 1800x360 with 4 Axes>"
      ]
     },
     "metadata": {
      "needs_background": "light"
     },
     "output_type": "display_data"
    }
   ],
   "source": [
    "#plt.figure(figsize=(10, 5))\n",
    "#plt.subplot(2,1,0)\n",
    "fig, axes = plt.subplots(nrows=1, ncols=4,figsize=(25, 5))\n",
    "my_pal={12:\t\"#BC81FF\",14:\"#E26EF7\",\n",
    "17:\t\"#FF62BF\",\n",
    "18:\t\"#FF6A9A\",\n",
    "4:\t\"#00BDD4\",\n",
    "9:\t\"#00B5EE\",\n",
    "1:\t\"#00BD61\",\n",
    "5:\t\"#00C0B4\",\n",
    "6:\t\"#F8766D\",\n",
    "10:\t\"#00A7FF\",\n",
    "11:\t\"#7F96FF\",\n",
    "2:\t\"#BC9D00\",\n",
    "7:\t\"#00C08E\",\n",
    "15:\t\"#F863DF\",\n",
    "16:\t\"#E9842C\",\n",
    "0:\t\"#D69100\",\n",
    "3:\t\"#9CA700\",\n",
    "13:\t\"#6FB000\",\n",
    "8:\t\"#00B813\"}\n",
    "my_pal ={0:'#cab2d6',1:'#e31a1c',2:'#b15928',3:'#6a3d9a',4:'#fdbf6f',5:'#ffff99',6:'#ff7f00'}\n",
    "sns.boxplot(x='seurat_clusters', y='mean_all_rows', data=pseudo_results,showfliers=False,order=[2,0,4,5,3,1,6],palette=my_pal,ax=axes[0],notch=True)\n",
    "axes[0].hlines(np.median(pseudo_results[pseudo_results['seurat_clusters'].isin([2,0,4])]['mean_all_rows']),-0.5,6.5,color=\"gray\",linestyle='dashed')\n",
    "axes[0].hlines(np.median(pseudo_results[pseudo_results['seurat_clusters'].isin([2,0,4])]['mean_all_rows'])-1,-0.5,6.5,color=\"red\",linestyle='dashed')\n",
    "#axes[0].text(4.2, 2.8, 'group 3',fontsize=10, fontweight='bold', va='top')\n",
    "#axes[0].text(-0.4, 2, 'A',fontsize=20, fontweight='bold', va='top')\n",
    "#axes[0].text(1.3, 2.8, 'group 2',fontsize=10, fontweight='bold', va='top')\n",
    "#axes[0].text(-0.4, 2.8, 'group 1',fontsize=10, fontweight='bold', va='top')\n",
    "axes[0].set_ylim(ymax=1.5)\n",
    "#axes[0].fill_between([2.5,6.5], 2, 3,facecolor='green', alpha=0.5)\n",
    "#axes[0].fill_between([0.5,2.5], 2, 3,facecolor='red', alpha=0.5)\n",
    "#axes[0].fill_between([-0.5,0.5], 2, 3,facecolor='yellow', alpha=0.5)\n",
    "axes[0].set_title('PAR',fontsize=15)\n",
    "axes[0].set_ylabel('log2(pseudo/Autosomes)',fontsize=15)\n",
    "axes[0].set_xlabel(' ')\n",
    "axes[0].text(2.8, 1, '***',fontsize=12, fontweight='bold', va='top')\n",
    "axes[0].text(3.8, 1, '***',fontsize=12, fontweight='bold', va='top')\n",
    "axes[0].text(4.8, 1, '***',fontsize=12, fontweight='bold', va='top')\n",
    "axes[0].text(5.8, 1, '***',fontsize=12, fontweight='bold', va='top')\n",
    "region = ['Ovarian muscle cells','Follicle cells','Tracheal cells','Prefollicle cells','Escort cells','Germ cells A','Germ cells B']\n",
    "axes[0].set_xticks(np.arange(0,7), region,rotation = 90,fontsize=15)\n",
    "sns.boxplot(x='seurat_clusters', y='mean_all_rows', data=S1_results,showfliers=False,order=[2,0,4,5,3,1,6],palette=my_pal,ax=axes[1],notch=True)\n",
    "axes[1].hlines(np.median(S1_results[S1_results['seurat_clusters'].isin([2,0,4])]['mean_all_rows']),-0.5,6.5,color=\"gray\",linestyle='dashed')\n",
    "axes[1].hlines(np.median(S1_results[S1_results['seurat_clusters'].isin([2,0,4])]['mean_all_rows'])-1,-0.5,6.5,color=\"red\",linestyle='dashed')\n",
    "#axes[1].text(4.2, 2.8, 'group 3',fontsize=10, fontweight='bold', va='top')\n",
    "#axes[1].text(-0.4, 2, 'A',fontsize=20, fontweight='bold', va='top')\n",
    "#axes[1].text(1.3, 2.8, 'group 2',fontsize=10, fontweight='bold', va='top')\n",
    "#axes[1].text(-0.4, 2.8, 'group 1',fontsize=10, fontweight='bold', va='top')\n",
    "axes[1].set_ylim(ymax=7)\n",
    "#axes[1].fill_between([2.5,6.5], 7.5, 10,facecolor='green', alpha=0.5)\n",
    "#axes[1].fill_between([0.5,2.5], 2, 3,facecolor='red', alpha=0.5)\n",
    "#axes[1].fill_between([-0.5,0.5], 2, 3,facecolor='yellow', alpha=0.5)\n",
    "axes[1].set_ylabel('log2(S1/Autosomes)',fontsize=15)\n",
    "axes[1].set_xlabel(' ')\n",
    "axes[1].text(2.8, 5.1, '***',fontsize=12, fontweight='bold', va='top')\n",
    "axes[1].text(4.8, 5.1, '***',fontsize=12, fontweight='bold', va='top')\n",
    "axes[1].text(5.8, 5.1, '***',fontsize=12, fontweight='bold', va='top')\n",
    "axes[1].set_title('S1',fontsize=15)\n",
    "region = ['Ovarian muscle cells','Follicle cells','Tracheal cells','Prefollicle cells','Escort cells','Germ cells A','Germ cells B']\n",
    "axes[1].set_xticks(np.arange(0,7), region,rotation = 90,fontsize=15)\n",
    "axes[1].set_xticks(np.arange(0,7), region,rotation = 90,fontsize=15)\n",
    "sns.boxplot(x='seurat_clusters', y='mean_all_rows', data=S2_results,showfliers=False,order=[2,0,4,5,3,1,6],palette=my_pal,ax=axes[2],notch=True)\n",
    "axes[2].hlines(np.median(S2_results[S2_results['seurat_clusters'].isin([2,0,4])]['mean_all_rows']),-0.5,6.5,color=\"gray\",linestyle='dashed')\n",
    "axes[2].hlines(np.median(S2_results[S2_results['seurat_clusters'].isin([2,0,4])]['mean_all_rows'])-1,-0.5,6.5,color=\"red\",linestyle='dashed')\n",
    "#axes[2].text(4.2, 2.8, 'group 3',fontsize=10, fontweight='bold', va='top')\n",
    "#axes[2].text(-0.4, 2, 'A',fontsize=20, fontweight='bold', va='top')\n",
    "#axes[2].text(1.3, 2.8, 'group 2',fontsize=10, fontweight='bold', va='top')\n",
    "#axes[2].text(-0.4, 2.8, 'group 1',fontsize=10, fontweight='bold', va='top')\n",
    "axes[2].set_ylim(ymax=7)\n",
    "#axes[2].fill_between([2.5,6.5], 2, 3,facecolor='green', alpha=0.5)\n",
    "#axes[2].fill_between([0.5,2.5], 2, 3,facecolor='red', alpha=0.5)\n",
    "#axes[2].fill_between([-0.5,0.5], 2, 3,facecolor='yellow', alpha=0.5)\n",
    "axes[2].set_ylabel('log2(S2/Autosomes)',fontsize=15)\n",
    "axes[2].set_xlabel(' ')\n",
    "axes[2].text(2.8, 6.1, '***',fontsize=12, fontweight='bold', va='top')\n",
    "axes[2].text(3.8, 6.1, '***',fontsize=12, fontweight='bold', va='top')\n",
    "axes[2].text(4.8, 6.1, '***',fontsize=12, fontweight='bold', va='top')\n",
    "axes[2].text(5.8, 6.1, '***',fontsize=12, fontweight='bold', va='top')\n",
    "axes[2].set_title('S2',fontsize=15)\n",
    "region = ['Ovarian muscle cells','Follicle cells','Tracheal cells','Prefollicle cells','Escort cells','Germ cells A','Germ cells B']\n",
    "axes[2].set_xticks(np.arange(0,7), region,rotation = 90,fontsize=15)\n",
    "sns.boxplot(x='seurat_clusters', y='mean_all_rows', data=W_results,showfliers=False,order=[2,0,4,5,3,1,6],palette=my_pal,ax=axes[3],notch=True)\n",
    "axes[3].hlines(np.median(W_results[W_results['seurat_clusters'].isin([2,0,4])]['mean_all_rows']),-0.5,6.5,color=\"gray\",linestyle='dashed')\n",
    "axes[3].hlines(np.median(W_results[W_results['seurat_clusters'].isin([2,0,4])]['mean_all_rows'])-1,-0.5,6.5,color=\"red\",linestyle='dashed')\n",
    "#axes[2].text(4.2, 2.8, 'group 3',fontsize=10, fontweight='bold', va='top')\n",
    "#axes[2].text(-0.4, 2, 'A',fontsize=20, fontweight='bold', va='top')\n",
    "#axes[2].text(1.3, 2.8, 'group 2',fontsize=10, fontweight='bold', va='top')\n",
    "#axes[2].text(-0.4, 2.8, 'group 1',fontsize=10, fontweight='bold', va='top')\n",
    "axes[3].set_ylim(ymax=8)\n",
    "#axes[2].fill_between([2.5,6.5], 2, 3,facecolor='green', alpha=0.5)\n",
    "#axes[2].fill_between([0.5,2.5], 2, 3,facecolor='red', alpha=0.5)\n",
    "#axes[2].fill_between([-0.5,0.5], 2, 3,facecolor='yellow', alpha=0.5)\n",
    "axes[3].set_ylabel('log2(W/Autosomes)',fontsize=15)\n",
    "axes[3].set_xlabel(' ')\n",
    "axes[3].set_title('W',fontsize=15)\n",
    "axes[3].text(2.8, 7.5, '***',fontsize=12, fontweight='bold', va='top')\n",
    "axes[3].text(3.8, 7.5, '***',fontsize=12, fontweight='bold', va='top')\n",
    "axes[3].text(4.8, 7.5, '***',fontsize=12, fontweight='bold', va='top')\n",
    "axes[3].text(5.8, 7.5, '***',fontsize=12, fontweight='bold', va='top')\n",
    "region = ['Ovarian muscle cells','Follicle cells','Tracheal cells','Prefollicle cells','Escort cells','Germ cells A','Germ cells B']\n",
    "axes[3].set_xticks(np.arange(0,7), region,rotation = 90,fontsize=15)\n",
    "\n",
    "plt.savefig('/nfs/scistore18/vicosgrp/melkrewi/Project_snRNA_ovaries_with_W/6.Integration/clean_run_04_12_2023/round_2/Inactivation_all_Z_v2.png',bbox_inches='tight',facecolor='white')\n"
   ]
  },
  {
   "cell_type": "code",
   "execution_count": 187,
   "id": "262a3fe1-50b1-4e31-97f8-8da50d541c4f",
   "metadata": {},
   "outputs": [],
   "source": [
    "Zones_1_stats=Zones_1[[\"%DC\",\"%Lack of DC\",\"%Inactivation Expression\"]].reindex([2,0,4,5,3,1,6]).T.reset_index()#[[2,1]]\n",
    "#Zones_1_stats['somatic']=np.median([Zones_1_stats[2].astype(float),Zones_1_stats[0].astype(float),Zones_1_stats[4].astype(float)])\n",
    "Zones_1_stats['somatic']=Zones_1_stats[[2,0,4]].median(axis=1)\n",
    "Zones_1_stats=Zones_1_stats.drop([2,0,4],axis=1)"
   ]
  },
  {
   "cell_type": "code",
   "execution_count": 209,
   "id": "f9dc30a8-a70d-45d9-953c-d61f4d71f488",
   "metadata": {},
   "outputs": [],
   "source": [
    "Zones_1_stats.loc[len(Zones_1_stats.index)] = np.append(np.array(['%Not_Inactivated']),np.array(Zones_1_stats[Zones_1_stats['zone']=='%Lack of DC'][[5,3,1,6,'somatic']].astype(float))+np.array(Zones_1_stats[Zones_1_stats['zone']=='%DC'][[5,3,1,6,'somatic']].astype(float)))#].insert(0, 'NI')\n",
    "Zones_1_stats.loc[len(Zones_1_stats.index)] = np.append(np.array(['%No_Lack_of_DC']),np.array(Zones_1_stats[Zones_1_stats['zone']=='%Inactivation Expression'][[5,3,1,6,'somatic']].astype(float))+np.array(Zones_1_stats[Zones_1_stats['zone']=='%DC'][[5,3,1,6,'somatic']].astype(float)))#].insert(0, 'NI')\n",
    "Zones_1_stats_N=Zones_1_stats[(Zones_1_stats['zone']=='%DC')|(Zones_1_stats['zone']==\"%Lack of DC\")|(Zones_1_stats['zone']==\"%Inactivation Expression\")]\n",
    "Zones_1_stats_NI=Zones_1_stats[(Zones_1_stats['zone']=='%Not_Inactivated')|(Zones_1_stats['zone']==\"%Inactivation Expression\")]\n",
    "Zones_1_stats_NDC=Zones_1_stats[(Zones_1_stats['zone']=='%No_Lack_of_DC')|(Zones_1_stats['zone']==\"%Lack of DC\")]"
   ]
  },
  {
   "cell_type": "code",
   "execution_count": 189,
   "id": "02381ce0-f481-486f-a440-5a686302f332",
   "metadata": {},
   "outputs": [
    {
     "name": "stdout",
     "output_type": "stream",
     "text": [
      "p-val for Germ cells A frequency differece= 2.5454228536956716e-06\n"
     ]
    }
   ],
   "source": [
    "from scipy.stats import chi2_contingency\n",
    "#table = np.array(Zones_1[[\"%DC\",\"%Lack of DC\",\"%Inactivation Expression\"]].reindex([2,0,4,5,3,1,6]).T[[2,1]].reset_index()[[2,1]])#[1]\n",
    "table = np.array(Zones_1_stats_1[['somatic',1]].astype(float))#[1]\n",
    "res = chi2_contingency(table)\n",
    "#res.statistic\n",
    "print(\"p-val for Germ cells A frequency differece= \"+str(res.pvalue))"
   ]
  },
  {
   "cell_type": "code",
   "execution_count": 190,
   "id": "ed7ed1e9-1a11-4cd8-8cf6-a1e485998402",
   "metadata": {},
   "outputs": [
    {
     "name": "stdout",
     "output_type": "stream",
     "text": [
      "p-val for Germ cells B frequency differece= 6.624185810744446e-22\n"
     ]
    }
   ],
   "source": [
    "from scipy.stats import chi2_contingency\n",
    "#table = np.array(Zones_1[[\"%DC\",\"%Lack of DC\",\"%Inactivation Expression\"]].reindex([2,0,4,5,3,1,6]).T[[2,1]].reset_index()[[2,1]])#[1]\n",
    "table = np.array(Zones_1_stats[['somatic',6]].astype(float))#[1]\n",
    "res = chi2_contingency(table)\n",
    "#res.statistic\n",
    "print(\"p-val for Germ cells B frequency differece= \"+str(res.pvalue))"
   ]
  },
  {
   "cell_type": "code",
   "execution_count": 191,
   "id": "69e7e6ec-ca41-43bb-bfd3-0a9ead33ea14",
   "metadata": {},
   "outputs": [
    {
     "name": "stdout",
     "output_type": "stream",
     "text": [
      "p-val for Escort cells frequency differece= 0.8986347318330274\n"
     ]
    }
   ],
   "source": [
    "from scipy.stats import chi2_contingency\n",
    "#table = np.array(Zones_1[[\"%DC\",\"%Lack of DC\",\"%Inactivation Expression\"]].reindex([2,0,4,5,3,1,6]).T[[2,1]].reset_index()[[2,1]])#[1]\n",
    "table = np.array(Zones_1_stats[['somatic',3]].astype(float))#[1]\n",
    "res = chi2_contingency(table)\n",
    "#res.statistic\n",
    "print(\"p-val for Escort cells frequency differece= \"+str(res.pvalue))"
   ]
  },
  {
   "cell_type": "code",
   "execution_count": 192,
   "id": "cdec3694-3b34-41cc-bbfe-7ee219ffdc59",
   "metadata": {},
   "outputs": [
    {
     "name": "stdout",
     "output_type": "stream",
     "text": [
      "p-val for Prefollicle cells frequency differece= 0.2714341899870067\n"
     ]
    }
   ],
   "source": [
    "from scipy.stats import chi2_contingency\n",
    "#table = np.array(Zones_1[[\"%DC\",\"%Lack of DC\",\"%Inactivation Expression\"]].reindex([2,0,4,5,3,1,6]).T[[2,1]].reset_index()[[2,1]])#[1]\n",
    "table = np.array(Zones_1_stats[['somatic',5]].astype(float))#[1]\n",
    "res = chi2_contingency(table)\n",
    "#res.statistic\n",
    "print(\"p-val for Prefollicle cells frequency differece= \"+str(res.pvalue))"
   ]
  },
  {
   "cell_type": "code",
   "execution_count": 193,
   "id": "ca5be0b5-39b6-48b7-94b7-a89284131eda",
   "metadata": {},
   "outputs": [
    {
     "name": "stdout",
     "output_type": "stream",
     "text": [
      "p-val for Germ cells B Inactivation enrichment= 2.384976412905756e-05\n"
     ]
    }
   ],
   "source": [
    "from scipy.stats import chi2_contingency\n",
    "#table = np.array(Zones_1[[\"%DC\",\"%Lack of DC\",\"%Inactivation Expression\"]].reindex([2,0,4,5,3,1,6]).T[[2,1]].reset_index()[[2,1]])#[1]\n",
    "table = np.array(Zones_1_stats_2[['somatic',6]].astype(float))#[1]\n",
    "res = chi2_contingency(table)\n",
    "#res.statistic\n",
    "print(\"p-val for Germ cells B Inactivation enrichment= \"+str(res.pvalue))"
   ]
  },
  {
   "cell_type": "code",
   "execution_count": 194,
   "id": "a1f9e7cd-2a54-45d2-b8a6-8177485e61f6",
   "metadata": {},
   "outputs": [
    {
     "name": "stdout",
     "output_type": "stream",
     "text": [
      "p-val for Germ cells A Inactivation enrichment= 0.07379096290591819\n"
     ]
    }
   ],
   "source": [
    "from scipy.stats import chi2_contingency\n",
    "#table = np.array(Zones_1[[\"%DC\",\"%Lack of DC\",\"%Inactivation Expression\"]].reindex([2,0,4,5,3,1,6]).T[[2,1]].reset_index()[[2,1]])#[1]\n",
    "table = np.array(Zones_1_stats_2[['somatic',1]].astype(float))#[1]\n",
    "res = chi2_contingency(table)\n",
    "#res.statistic\n",
    "print(\"p-val for Germ cells A Inactivation enrichment= \"+str(res.pvalue))"
   ]
  },
  {
   "cell_type": "code",
   "execution_count": 195,
   "id": "1eaccfe8-d785-4baf-a0bc-480bd0a55f0e",
   "metadata": {},
   "outputs": [
    {
     "name": "stdout",
     "output_type": "stream",
     "text": [
      "p-val for Escort cells Inactivation enrichment= 0.6331367723882542\n"
     ]
    }
   ],
   "source": [
    "from scipy.stats import chi2_contingency\n",
    "#table = np.array(Zones_1[[\"%DC\",\"%Lack of DC\",\"%Inactivation Expression\"]].reindex([2,0,4,5,3,1,6]).T[[2,1]].reset_index()[[2,1]])#[1]\n",
    "table = np.array(Zones_1_stats_2[['somatic',3]].astype(float))#[1]\n",
    "res = chi2_contingency(table)\n",
    "#res.statistic\n",
    "print(\"p-val for Escort cells Inactivation enrichment= \"+str(res.pvalue))"
   ]
  },
  {
   "cell_type": "code",
   "execution_count": 196,
   "id": "7f7e4259-bcea-4040-b03d-72924c8d7b3c",
   "metadata": {},
   "outputs": [
    {
     "name": "stdout",
     "output_type": "stream",
     "text": [
      "p-val for Prefollicle cells Inactivation enrichment= 0.7112708105101422\n"
     ]
    }
   ],
   "source": [
    "from scipy.stats import chi2_contingency\n",
    "#table = np.array(Zones_1[[\"%DC\",\"%Lack of DC\",\"%Inactivation Expression\"]].reindex([2,0,4,5,3,1,6]).T[[2,1]].reset_index()[[2,1]])#[1]\n",
    "table = np.array(Zones_1_stats_2[['somatic',5]].astype(float))#[1]\n",
    "res = chi2_contingency(table)\n",
    "#res.statistic\n",
    "print(\"p-val for Prefollicle cells Inactivation enrichment= \"+str(res.pvalue))"
   ]
  },
  {
   "cell_type": "code",
   "execution_count": 211,
   "id": "995872dc-7435-426e-9367-51f5970cd812",
   "metadata": {},
   "outputs": [
    {
     "data": {
      "text/plain": [
       "8.755483473877328e-15"
      ]
     },
     "execution_count": 211,
     "metadata": {},
     "output_type": "execute_result"
    }
   ],
   "source": [
    "chi2_contingency(np.array(Zones_1_stats_NDC[['somatic',6]].astype(float))).pvalue"
   ]
  },
  {
   "cell_type": "code",
   "execution_count": 197,
   "id": "a92ea0f0-2992-4663-8dae-d4f9864c2c7a",
   "metadata": {},
   "outputs": [
    {
     "name": "stdout",
     "output_type": "stream",
     "text": [
      "p-val for Germ cells B Lack of DC enrichment= 8.029090861742356e-13\n"
     ]
    }
   ],
   "source": [
    "from scipy.stats import chi2_contingency\n",
    "#table = np.array(Zones_1[[\"%DC\",\"%Lack of DC\",\"%Inactivation Expression\"]].reindex([2,0,4,5,3,1,6]).T[[2,1]].reset_index()[[2,1]])#[1]\n",
    "table = np.array(Zones_1_stats_3[['somatic',6]].astype(float))#[1]\n",
    "res = chi2_contingency(table)\n",
    "#res.statistic\n",
    "print(\"p-val for Germ cells B Lack of DC enrichment= \"+str(res.pvalue))"
   ]
  },
  {
   "cell_type": "code",
   "execution_count": 198,
   "id": "43be7e13-55e7-4ebe-8ccd-f2773d165b98",
   "metadata": {},
   "outputs": [
    {
     "name": "stdout",
     "output_type": "stream",
     "text": [
      "p-val for Germ cells A Lack of DC enrichment= 2.8958389878392554e-05\n"
     ]
    }
   ],
   "source": [
    "from scipy.stats import chi2_contingency\n",
    "#table = np.array(Zones_1[[\"%DC\",\"%Lack of DC\",\"%Inactivation Expression\"]].reindex([2,0,4,5,3,1,6]).T[[2,1]].reset_index()[[2,1]])#[1]\n",
    "table = np.array(Zones_1_stats_3[['somatic',1]].astype(float))#[1]\n",
    "res = chi2_contingency(table)\n",
    "#res.statistic\n",
    "print(\"p-val for Germ cells A Lack of DC enrichment= \"+str(res.pvalue))"
   ]
  },
  {
   "cell_type": "code",
   "execution_count": 199,
   "id": "eb02e596-7ec4-41ac-a9bc-171a24120e54",
   "metadata": {},
   "outputs": [
    {
     "name": "stdout",
     "output_type": "stream",
     "text": [
      "p-val for Escort cells Lack of DC enrichment= 1.0\n"
     ]
    }
   ],
   "source": [
    "from scipy.stats import chi2_contingency\n",
    "#table = np.array(Zones_1[[\"%DC\",\"%Lack of DC\",\"%Inactivation Expression\"]].reindex([2,0,4,5,3,1,6]).T[[2,1]].reset_index()[[2,1]])#[1]\n",
    "table = np.array(Zones_1_stats_3[['somatic',3]].astype(float))#[1]\n",
    "res = chi2_contingency(table)\n",
    "#res.statistic\n",
    "print(\"p-val for Escort cells Lack of DC enrichment= \"+str(res.pvalue))"
   ]
  },
  {
   "cell_type": "code",
   "execution_count": 200,
   "id": "fc46da36-595d-4466-92da-d9c3b00004d0",
   "metadata": {},
   "outputs": [
    {
     "name": "stdout",
     "output_type": "stream",
     "text": [
      "p-val for Prefollicle cells Lack of DC enrichment= 0.08019536453733886\n"
     ]
    }
   ],
   "source": [
    "from scipy.stats import chi2_contingency\n",
    "#table = np.array(Zones_1[[\"%DC\",\"%Lack of DC\",\"%Inactivation Expression\"]].reindex([2,0,4,5,3,1,6]).T[[2,1]].reset_index()[[2,1]])#[1]\n",
    "table = np.array(Zones_1_stats_3[['somatic',5]].astype(float))#[1]\n",
    "res = chi2_contingency(table)\n",
    "#res.statistic\n",
    "print(\"p-val for Prefollicle cells Lack of DC enrichment= \"+str(res.pvalue))"
   ]
  },
  {
   "cell_type": "code",
   "execution_count": 27,
   "id": "1a860b94-8045-4059-a86d-ec42b842b1d3",
   "metadata": {},
   "outputs": [
    {
     "data": {
      "text/plain": [
       "1.0953047468889782e-06"
      ]
     },
     "execution_count": 27,
     "metadata": {},
     "output_type": "execute_result"
    }
   ],
   "source": [
    "from scipy.stats import chi2_contingency\n",
    "#table = np.array(Zones_1[[\"%DC\",\"%Lack of DC\",\"%Inactivation Expression\"]].reindex([2,0,4,5,3,1,6]).T[[2,1]].reset_index()[[2,1]])#[1]\n",
    "table = np.array(Zones_1_stats[['somatic',1]])#[1]\n",
    "res = chi2_contingency(table)\n",
    "#res.statistic\n",
    "print(\"somatic \n",
    "res.pvalue"
   ]
  },
  {
   "cell_type": "code",
   "execution_count": 220,
   "id": "52b6041b-4512-4813-8a21-5b6786d3b65a",
   "metadata": {},
   "outputs": [
    {
     "data": {
      "text/plain": [
       "RanksumsResult(statistic=-19.1056449544148, pvalue=1.1330516625376897e-81)"
      ]
     },
     "execution_count": 220,
     "metadata": {},
     "output_type": "execute_result"
    }
   ],
   "source": [
    "from scipy.stats import ranksums\n",
    "ranksums(S0_results[S0_results['seurat_clusters'].isin([5])]['mean_all_rows'],S0_results[S0_results['seurat_clusters'].isin([2,0,4])]['mean_all_rows'],alternative='less').pvalue"
   ]
  },
  {
   "cell_type": "code",
   "execution_count": 204,
   "id": "112874cd-fd60-4fb4-b3c3-09504b7786a6",
   "metadata": {},
   "outputs": [
    {
     "data": {
      "text/plain": [
       "RanksumsResult(statistic=31.611005302088873, pvalue=1.0)"
      ]
     },
     "execution_count": 204,
     "metadata": {},
     "output_type": "execute_result"
    }
   ],
   "source": [
    "from scipy.stats import ranksums\n",
    "ranksums(S0_results[S0_results['seurat_clusters'].isin([3])]['mean_all_rows'],S0_results[S0_results['seurat_clusters'].isin([2,0,4])]['mean_all_rows'],alternative='less')"
   ]
  },
  {
   "cell_type": "code",
   "execution_count": 205,
   "id": "b686fdc0-1079-4820-90ba-65c26235e58d",
   "metadata": {},
   "outputs": [
    {
     "data": {
      "text/plain": [
       "RanksumsResult(statistic=-53.65099757970829, pvalue=0.0)"
      ]
     },
     "execution_count": 205,
     "metadata": {},
     "output_type": "execute_result"
    }
   ],
   "source": [
    "from scipy.stats import ranksums\n",
    "ranksums(S0_results[S0_results['seurat_clusters'].isin([1])]['mean_all_rows'],S0_results[S0_results['seurat_clusters'].isin([2,0,4])]['mean_all_rows'],alternative='less')"
   ]
  },
  {
   "cell_type": "code",
   "execution_count": 206,
   "id": "7bb6d149-5be1-47c4-bb91-4b016c724f82",
   "metadata": {},
   "outputs": [
    {
     "data": {
      "text/plain": [
       "RanksumsResult(statistic=-40.643673462909945, pvalue=0.0)"
      ]
     },
     "execution_count": 206,
     "metadata": {},
     "output_type": "execute_result"
    }
   ],
   "source": [
    "from scipy.stats import ranksums\n",
    "ranksums(S0_results[S0_results['seurat_clusters'].isin([6])]['mean_all_rows'],S0_results[S0_results['seurat_clusters'].isin([2,0,4])]['mean_all_rows'],alternative='less')"
   ]
  },
  {
   "cell_type": "code",
   "execution_count": 134,
   "id": "9f4532d3-f059-40e2-a728-970690ec9909",
   "metadata": {},
   "outputs": [
    {
     "data": {
      "text/plain": [
       "RanksumsResult(statistic=-33.27461269893115, pvalue=4.4979334528275054e-243)"
      ]
     },
     "execution_count": 134,
     "metadata": {},
     "output_type": "execute_result"
    }
   ],
   "source": [
    "from scipy.stats import ranksums\n",
    "ranksums(pseudo_results[pseudo_results['seurat_clusters'].isin([5])]['mean_all_rows'],pseudo_results[pseudo_results['seurat_clusters'].isin([2,0,4])]['mean_all_rows'],alternative='less')"
   ]
  },
  {
   "cell_type": "code",
   "execution_count": 139,
   "id": "561e0567-aa51-441e-8687-4734cbd6d000",
   "metadata": {},
   "outputs": [
    {
     "data": {
      "text/plain": [
       "RanksumsResult(statistic=-16.90223766895543, pvalue=2.1657615481283854e-64)"
      ]
     },
     "execution_count": 139,
     "metadata": {},
     "output_type": "execute_result"
    }
   ],
   "source": [
    "from scipy.stats import ranksums\n",
    "ranksums(S1_results[S1_results['seurat_clusters'].isin([6])]['mean_all_rows'],S1_results[S1_results['seurat_clusters'].isin([2,0,4])]['mean_all_rows'],alternative='less')"
   ]
  },
  {
   "cell_type": "code",
   "execution_count": 154,
   "id": "92026473-d9ea-41a8-b70c-2bbb522c650e",
   "metadata": {},
   "outputs": [
    {
     "data": {
      "text/plain": [
       "RanksumsResult(statistic=-31.40004930638001, pvalue=1.0101230862007576e-216)"
      ]
     },
     "execution_count": 154,
     "metadata": {},
     "output_type": "execute_result"
    }
   ],
   "source": [
    "from scipy.stats import ranksums\n",
    "ranksums(S2_results[S2_results['seurat_clusters'].isin([6])]['mean_all_rows'],S2_results[S2_results['seurat_clusters'].isin([2,0,4])]['mean_all_rows'],alternative='less')"
   ]
  },
  {
   "cell_type": "code",
   "execution_count": 160,
   "id": "fe118e30-105e-4307-ab7e-b0fbc00e9e92",
   "metadata": {},
   "outputs": [
    {
     "data": {
      "text/plain": [
       "RanksumsResult(statistic=-7.296802840325763, pvalue=1.473430591941257e-13)"
      ]
     },
     "execution_count": 160,
     "metadata": {},
     "output_type": "execute_result"
    }
   ],
   "source": [
    "from scipy.stats import ranksums\n",
    "ranksums(W_results[W_results['seurat_clusters'].isin([6])]['mean_all_rows'],W_results[W_results['seurat_clusters'].isin([2,0,4])]['mean_all_rows'],alternative='less')"
   ]
  },
  {
   "cell_type": "code",
   "execution_count": null,
   "id": "599dd366-6f1a-4c3a-9b45-da68b5cb9b1c",
   "metadata": {},
   "outputs": [],
   "source": []
  }
 ],
 "metadata": {
  "kernelspec": {
   "display_name": "Python 3 (ipykernel)",
   "language": "python",
   "name": "python3"
  },
  "language_info": {
   "codemirror_mode": {
    "name": "ipython",
    "version": 3
   },
   "file_extension": ".py",
   "mimetype": "text/x-python",
   "name": "python",
   "nbconvert_exporter": "python",
   "pygments_lexer": "ipython3",
   "version": "3.9.9"
  }
 },
 "nbformat": 4,
 "nbformat_minor": 5
}
